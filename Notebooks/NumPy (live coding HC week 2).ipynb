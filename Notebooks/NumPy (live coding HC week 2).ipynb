{
 "cells": [
  {
   "cell_type": "markdown",
   "id": "ef592de0",
   "metadata": {},
   "source": [
    "# NumPy live coding Notebook"
   ]
  },
  {
   "cell_type": "markdown",
   "id": "c114822e",
   "metadata": {},
   "source": [
    "## NumPy arrays en matrices"
   ]
  },
  {
   "cell_type": "code",
   "execution_count": 1,
   "id": "7c8d611f",
   "metadata": {},
   "outputs": [],
   "source": [
    "import numpy as np"
   ]
  },
  {
   "cell_type": "code",
   "execution_count": 3,
   "id": "684cb455",
   "metadata": {},
   "outputs": [
    {
     "data": {
      "text/plain": [
       "array([[1, 2, 3],\n",
       "       [4, 5, 6]])"
      ]
     },
     "execution_count": 3,
     "metadata": {},
     "output_type": "execute_result"
    }
   ],
   "source": [
    "np.array([[1,2,3],[4,5,6]])"
   ]
  },
  {
   "cell_type": "code",
   "execution_count": 6,
   "id": "77d6c160",
   "metadata": {},
   "outputs": [],
   "source": [
    "arr = np.array([[1,2,3],[4,5,6]])"
   ]
  },
  {
   "cell_type": "code",
   "execution_count": 7,
   "id": "1590d507",
   "metadata": {
    "scrolled": true
   },
   "outputs": [
    {
     "data": {
      "text/plain": [
       "array([[1, 2, 3],\n",
       "       [4, 5, 6]])"
      ]
     },
     "execution_count": 7,
     "metadata": {},
     "output_type": "execute_result"
    }
   ],
   "source": [
    "arr"
   ]
  },
  {
   "cell_type": "markdown",
   "id": "3cc8b91f",
   "metadata": {},
   "source": [
    "## Shape en transponeren"
   ]
  },
  {
   "cell_type": "code",
   "execution_count": 6,
   "id": "881fed6c",
   "metadata": {},
   "outputs": [
    {
     "data": {
      "text/plain": [
       "(2, 3)"
      ]
     },
     "execution_count": 6,
     "metadata": {},
     "output_type": "execute_result"
    }
   ],
   "source": [
    "arr.shape"
   ]
  },
  {
   "cell_type": "code",
   "execution_count": 7,
   "id": "eb1cecd4",
   "metadata": {},
   "outputs": [
    {
     "data": {
      "text/plain": [
       "array([[1, 4],\n",
       "       [2, 5],\n",
       "       [3, 6]])"
      ]
     },
     "execution_count": 7,
     "metadata": {},
     "output_type": "execute_result"
    }
   ],
   "source": [
    "arr.T"
   ]
  },
  {
   "cell_type": "code",
   "execution_count": 8,
   "id": "96b12b65",
   "metadata": {},
   "outputs": [
    {
     "data": {
      "text/plain": [
       "(3, 2)"
      ]
     },
     "execution_count": 8,
     "metadata": {},
     "output_type": "execute_result"
    }
   ],
   "source": [
    "arr.T.shape"
   ]
  },
  {
   "cell_type": "markdown",
   "id": "548b117e",
   "metadata": {},
   "source": [
    "## Indexatie en slicing"
   ]
  },
  {
   "cell_type": "code",
   "execution_count": 9,
   "id": "9a42a18f",
   "metadata": {},
   "outputs": [
    {
     "data": {
      "text/plain": [
       "array([[1, 2, 3],\n",
       "       [4, 5, 6]])"
      ]
     },
     "execution_count": 9,
     "metadata": {},
     "output_type": "execute_result"
    }
   ],
   "source": [
    "arr"
   ]
  },
  {
   "cell_type": "code",
   "execution_count": 5,
   "id": "8e52a91a",
   "metadata": {},
   "outputs": [
    {
     "data": {
      "text/plain": [
       "array([1, 2, 3])"
      ]
     },
     "execution_count": 5,
     "metadata": {},
     "output_type": "execute_result"
    }
   ],
   "source": [
    "arr[0]"
   ]
  },
  {
   "cell_type": "code",
   "execution_count": 6,
   "id": "37203d22",
   "metadata": {},
   "outputs": [
    {
     "data": {
      "text/plain": [
       "array([4, 5, 6])"
      ]
     },
     "execution_count": 6,
     "metadata": {},
     "output_type": "execute_result"
    }
   ],
   "source": [
    "arr[1,:]"
   ]
  },
  {
   "cell_type": "code",
   "execution_count": 7,
   "id": "760cf173",
   "metadata": {},
   "outputs": [
    {
     "data": {
      "text/plain": [
       "array([5])"
      ]
     },
     "execution_count": 7,
     "metadata": {},
     "output_type": "execute_result"
    }
   ],
   "source": [
    "arr[1,1:2]"
   ]
  },
  {
   "cell_type": "code",
   "execution_count": 8,
   "id": "ceead7ea",
   "metadata": {},
   "outputs": [
    {
     "data": {
      "text/plain": [
       "array([5, 6])"
      ]
     },
     "execution_count": 8,
     "metadata": {},
     "output_type": "execute_result"
    }
   ],
   "source": [
    "arr[1,1:]"
   ]
  },
  {
   "cell_type": "markdown",
   "id": "629954fc",
   "metadata": {},
   "source": [
    "## arange, linspace, zeros, ones, eye"
   ]
  },
  {
   "cell_type": "code",
   "execution_count": 25,
   "id": "f09b25ab",
   "metadata": {
    "scrolled": true
   },
   "outputs": [
    {
     "data": {
      "text/plain": [
       "array([0, 1, 2, 3, 4, 5, 6, 7, 8, 9])"
      ]
     },
     "execution_count": 25,
     "metadata": {},
     "output_type": "execute_result"
    }
   ],
   "source": [
    "np.arange(0, 10, 1)"
   ]
  },
  {
   "cell_type": "code",
   "execution_count": 26,
   "id": "aa6f4b3b",
   "metadata": {},
   "outputs": [
    {
     "data": {
      "text/plain": [
       "array([0, 2, 4, 6, 8])"
      ]
     },
     "execution_count": 26,
     "metadata": {},
     "output_type": "execute_result"
    }
   ],
   "source": [
    "np.arange(0, 10, 2)"
   ]
  },
  {
   "cell_type": "code",
   "execution_count": 29,
   "id": "773ec2d9",
   "metadata": {},
   "outputs": [
    {
     "data": {
      "text/plain": [
       "array([0., 1., 2., 3., 4., 5., 6., 7., 8., 9.])"
      ]
     },
     "execution_count": 29,
     "metadata": {},
     "output_type": "execute_result"
    }
   ],
   "source": [
    "np.linspace(0, 9, 10)"
   ]
  },
  {
   "cell_type": "code",
   "execution_count": 30,
   "id": "8f7d026d",
   "metadata": {},
   "outputs": [
    {
     "data": {
      "text/plain": [
       "array([0.        , 0.18367347, 0.36734694, 0.55102041, 0.73469388,\n",
       "       0.91836735, 1.10204082, 1.28571429, 1.46938776, 1.65306122,\n",
       "       1.83673469, 2.02040816, 2.20408163, 2.3877551 , 2.57142857,\n",
       "       2.75510204, 2.93877551, 3.12244898, 3.30612245, 3.48979592,\n",
       "       3.67346939, 3.85714286, 4.04081633, 4.2244898 , 4.40816327,\n",
       "       4.59183673, 4.7755102 , 4.95918367, 5.14285714, 5.32653061,\n",
       "       5.51020408, 5.69387755, 5.87755102, 6.06122449, 6.24489796,\n",
       "       6.42857143, 6.6122449 , 6.79591837, 6.97959184, 7.16326531,\n",
       "       7.34693878, 7.53061224, 7.71428571, 7.89795918, 8.08163265,\n",
       "       8.26530612, 8.44897959, 8.63265306, 8.81632653, 9.        ])"
      ]
     },
     "execution_count": 30,
     "metadata": {},
     "output_type": "execute_result"
    }
   ],
   "source": [
    "np.linspace(0, 9, 50)"
   ]
  },
  {
   "cell_type": "code",
   "execution_count": 31,
   "id": "92f6559a",
   "metadata": {},
   "outputs": [
    {
     "data": {
      "text/plain": [
       "array([[0., 0., 0.],\n",
       "       [0., 0., 0.]])"
      ]
     },
     "execution_count": 31,
     "metadata": {},
     "output_type": "execute_result"
    }
   ],
   "source": [
    "np.zeros((2,3))"
   ]
  },
  {
   "cell_type": "code",
   "execution_count": 32,
   "id": "6ae8573e",
   "metadata": {},
   "outputs": [
    {
     "data": {
      "text/plain": [
       "array([[1., 1.],\n",
       "       [1., 1.],\n",
       "       [1., 1.]])"
      ]
     },
     "execution_count": 32,
     "metadata": {},
     "output_type": "execute_result"
    }
   ],
   "source": [
    "np.ones((3,2))"
   ]
  },
  {
   "cell_type": "code",
   "execution_count": 33,
   "id": "4dcbdc8b",
   "metadata": {},
   "outputs": [
    {
     "data": {
      "text/plain": [
       "array([[1., 0., 0.],\n",
       "       [0., 1., 0.],\n",
       "       [0., 0., 1.]])"
      ]
     },
     "execution_count": 33,
     "metadata": {},
     "output_type": "execute_result"
    }
   ],
   "source": [
    "np.eye(3)"
   ]
  },
  {
   "cell_type": "markdown",
   "id": "f96448f5",
   "metadata": {},
   "source": [
    "## np.random"
   ]
  },
  {
   "cell_type": "code",
   "execution_count": 12,
   "id": "3dd5c60f",
   "metadata": {
    "scrolled": true
   },
   "outputs": [
    {
     "data": {
      "text/plain": [
       "array([[0.83632791, 0.84049071, 0.6600157 , 0.21052593],\n",
       "       [0.17955582, 0.93350153, 0.7097402 , 0.00883758],\n",
       "       [0.44421777, 0.49507887, 0.78558324, 0.94374768],\n",
       "       [0.96470847, 0.67210779, 0.43854117, 0.41483878],\n",
       "       [0.43211965, 0.5083066 , 0.86780039, 0.04901874]])"
      ]
     },
     "execution_count": 12,
     "metadata": {},
     "output_type": "execute_result"
    }
   ],
   "source": [
    "rand_arr = np.random.rand(100, 4)\n",
    "rand_arr[:5,:]"
   ]
  },
  {
   "cell_type": "code",
   "execution_count": 13,
   "id": "f5f1e8c8",
   "metadata": {},
   "outputs": [
    {
     "data": {
      "text/plain": [
       "array([[ 0.17238653, -0.64193961,  2.42161282,  0.57915733],\n",
       "       [-0.45578727, -1.33402937,  1.00408368, -0.28416983],\n",
       "       [ 0.17174903, -0.43160707, -1.30702262,  0.43283871],\n",
       "       [ 0.18251531,  2.0058711 ,  0.4372713 ,  0.2536588 ],\n",
       "       [-0.03981084,  0.48823382, -0.33422814, -0.99405468]])"
      ]
     },
     "execution_count": 13,
     "metadata": {},
     "output_type": "execute_result"
    }
   ],
   "source": [
    "np.random.randn(5, 4)"
   ]
  },
  {
   "cell_type": "code",
   "execution_count": 14,
   "id": "e379e436",
   "metadata": {},
   "outputs": [
    {
     "data": {
      "text/plain": [
       "array([[8, 6, 6, 3],\n",
       "       [0, 4, 2, 8],\n",
       "       [2, 6, 3, 9],\n",
       "       [7, 4, 3, 4],\n",
       "       [3, 8, 2, 5]])"
      ]
     },
     "execution_count": 14,
     "metadata": {},
     "output_type": "execute_result"
    }
   ],
   "source": [
    "np.random.randint(0, 10, size=(5,4))"
   ]
  },
  {
   "cell_type": "markdown",
   "id": "e7b46112",
   "metadata": {},
   "source": [
    "## Vectoren"
   ]
  },
  {
   "cell_type": "code",
   "execution_count": 2,
   "id": "33f0ecf9",
   "metadata": {},
   "outputs": [
    {
     "data": {
      "text/plain": [
       "array([1, 2, 3, 4])"
      ]
     },
     "execution_count": 2,
     "metadata": {},
     "output_type": "execute_result"
    }
   ],
   "source": [
    "v = np.array([1,2,3,4])\n",
    "v"
   ]
  },
  {
   "cell_type": "code",
   "execution_count": 3,
   "id": "e9ed816d",
   "metadata": {},
   "outputs": [
    {
     "data": {
      "text/plain": [
       "(4,)"
      ]
     },
     "execution_count": 3,
     "metadata": {},
     "output_type": "execute_result"
    }
   ],
   "source": [
    "v.shape"
   ]
  },
  {
   "cell_type": "code",
   "execution_count": 4,
   "id": "afc6b680",
   "metadata": {},
   "outputs": [
    {
     "data": {
      "text/plain": [
       "array([[1, 2, 3, 4]])"
      ]
     },
     "execution_count": 4,
     "metadata": {},
     "output_type": "execute_result"
    }
   ],
   "source": [
    "v2 = np.array([[1,2,3,4]])\n",
    "v2"
   ]
  },
  {
   "cell_type": "code",
   "execution_count": 5,
   "id": "c41bf800",
   "metadata": {},
   "outputs": [
    {
     "data": {
      "text/plain": [
       "(1, 4)"
      ]
     },
     "execution_count": 5,
     "metadata": {},
     "output_type": "execute_result"
    }
   ],
   "source": [
    "v2.shape"
   ]
  },
  {
   "cell_type": "markdown",
   "id": "59a8fbed",
   "metadata": {},
   "source": [
    "## Element-wise operaties"
   ]
  },
  {
   "cell_type": "code",
   "execution_count": 8,
   "id": "227c8bc3",
   "metadata": {},
   "outputs": [
    {
     "data": {
      "text/plain": [
       "array([[2, 3, 4],\n",
       "       [5, 6, 7]])"
      ]
     },
     "execution_count": 8,
     "metadata": {},
     "output_type": "execute_result"
    }
   ],
   "source": [
    "arr + 1"
   ]
  },
  {
   "cell_type": "code",
   "execution_count": 9,
   "id": "79fa0b89",
   "metadata": {},
   "outputs": [
    {
     "data": {
      "text/plain": [
       "array([[ 2,  4,  6],\n",
       "       [ 8, 10, 12]])"
      ]
     },
     "execution_count": 9,
     "metadata": {},
     "output_type": "execute_result"
    }
   ],
   "source": [
    "arr * 2"
   ]
  },
  {
   "cell_type": "code",
   "execution_count": 10,
   "id": "89519229",
   "metadata": {},
   "outputs": [
    {
     "data": {
      "text/plain": [
       "array([[3., 3., 3.],\n",
       "       [3., 3., 3.]])"
      ]
     },
     "execution_count": 10,
     "metadata": {},
     "output_type": "execute_result"
    }
   ],
   "source": [
    "arr2 = np.ones((2,3)) * 3\n",
    "arr2"
   ]
  },
  {
   "cell_type": "code",
   "execution_count": 11,
   "id": "18dea70f",
   "metadata": {},
   "outputs": [
    {
     "data": {
      "text/plain": [
       "array([[ 3.,  6.,  9.],\n",
       "       [12., 15., 18.]])"
      ]
     },
     "execution_count": 11,
     "metadata": {},
     "output_type": "execute_result"
    }
   ],
   "source": [
    "arr * arr2"
   ]
  },
  {
   "cell_type": "code",
   "execution_count": 12,
   "id": "058dd4bf",
   "metadata": {},
   "outputs": [
    {
     "ename": "ValueError",
     "evalue": "operands could not be broadcast together with shapes (2,3) (2,2) ",
     "output_type": "error",
     "traceback": [
      "\u001b[1;31m---------------------------------------------------------------------------\u001b[0m",
      "\u001b[1;31mValueError\u001b[0m                                Traceback (most recent call last)",
      "\u001b[1;32m<ipython-input-12-b58ea597aa73>\u001b[0m in \u001b[0;36m<module>\u001b[1;34m\u001b[0m\n\u001b[0;32m      1\u001b[0m \u001b[0marr3\u001b[0m \u001b[1;33m=\u001b[0m \u001b[0mnp\u001b[0m\u001b[1;33m.\u001b[0m\u001b[0mones\u001b[0m\u001b[1;33m(\u001b[0m\u001b[1;33m(\u001b[0m\u001b[1;36m2\u001b[0m\u001b[1;33m,\u001b[0m\u001b[1;36m2\u001b[0m\u001b[1;33m)\u001b[0m\u001b[1;33m)\u001b[0m \u001b[1;33m*\u001b[0m \u001b[1;36m3\u001b[0m\u001b[1;33m\u001b[0m\u001b[1;33m\u001b[0m\u001b[0m\n\u001b[1;32m----> 2\u001b[1;33m \u001b[0marr\u001b[0m \u001b[1;33m*\u001b[0m \u001b[0marr3\u001b[0m\u001b[1;33m\u001b[0m\u001b[1;33m\u001b[0m\u001b[0m\n\u001b[0m",
      "\u001b[1;31mValueError\u001b[0m: operands could not be broadcast together with shapes (2,3) (2,2) "
     ]
    }
   ],
   "source": [
    "arr3 = np.ones((2,2)) * 3\n",
    "arr * arr3"
   ]
  },
  {
   "cell_type": "markdown",
   "id": "c8c61f76",
   "metadata": {},
   "source": [
    "## Matrix-vermenigvuldiging"
   ]
  },
  {
   "cell_type": "code",
   "execution_count": 13,
   "id": "7930cf9e",
   "metadata": {},
   "outputs": [
    {
     "data": {
      "text/plain": [
       "array([[18., 18.],\n",
       "       [45., 45.]])"
      ]
     },
     "execution_count": 13,
     "metadata": {},
     "output_type": "execute_result"
    }
   ],
   "source": [
    "arr4 = np.ones((3,2)) * 3\n",
    "arr @ arr4"
   ]
  },
  {
   "cell_type": "code",
   "execution_count": 14,
   "id": "5f027c51",
   "metadata": {},
   "outputs": [
    {
     "data": {
      "text/plain": [
       "array([[18., 18.],\n",
       "       [45., 45.]])"
      ]
     },
     "execution_count": 14,
     "metadata": {},
     "output_type": "execute_result"
    }
   ],
   "source": [
    "np.matmul(arr, arr4)"
   ]
  },
  {
   "cell_type": "code",
   "execution_count": 15,
   "id": "7df3fba0",
   "metadata": {},
   "outputs": [
    {
     "data": {
      "text/plain": [
       "array([[18., 18.],\n",
       "       [45., 45.]])"
      ]
     },
     "execution_count": 15,
     "metadata": {},
     "output_type": "execute_result"
    }
   ],
   "source": [
    "np.dot(arr, arr4)"
   ]
  },
  {
   "cell_type": "code",
   "execution_count": 17,
   "id": "7b8a1e11",
   "metadata": {},
   "outputs": [
    {
     "data": {
      "text/plain": [
       "array([30])"
      ]
     },
     "execution_count": 17,
     "metadata": {},
     "output_type": "execute_result"
    }
   ],
   "source": [
    "v3 = np.array([3,3,3,3]).T\n",
    "np.dot(v2, v3)"
   ]
  },
  {
   "cell_type": "markdown",
   "id": "1fbe317a",
   "metadata": {},
   "source": [
    "## Pandas"
   ]
  },
  {
   "cell_type": "code",
   "execution_count": 1,
   "id": "a29675ab",
   "metadata": {},
   "outputs": [],
   "source": [
    "import pandas as pd"
   ]
  },
  {
   "cell_type": "code",
   "execution_count": 2,
   "id": "62d7631b",
   "metadata": {},
   "outputs": [],
   "source": [
    "my_dict = {'J':[1,4], 'F':[2,5], 'M':[3,6]}"
   ]
  },
  {
   "cell_type": "code",
   "execution_count": 3,
   "id": "b936479e",
   "metadata": {},
   "outputs": [],
   "source": [
    "df = pd.DataFrame(my_dict,index=['C1','C2'])"
   ]
  },
  {
   "cell_type": "code",
   "execution_count": 4,
   "id": "3052ec02",
   "metadata": {},
   "outputs": [
    {
     "data": {
      "text/html": [
       "<div>\n",
       "<style scoped>\n",
       "    .dataframe tbody tr th:only-of-type {\n",
       "        vertical-align: middle;\n",
       "    }\n",
       "\n",
       "    .dataframe tbody tr th {\n",
       "        vertical-align: top;\n",
       "    }\n",
       "\n",
       "    .dataframe thead th {\n",
       "        text-align: right;\n",
       "    }\n",
       "</style>\n",
       "<table border=\"1\" class=\"dataframe\">\n",
       "  <thead>\n",
       "    <tr style=\"text-align: right;\">\n",
       "      <th></th>\n",
       "      <th>J</th>\n",
       "      <th>F</th>\n",
       "      <th>M</th>\n",
       "    </tr>\n",
       "  </thead>\n",
       "  <tbody>\n",
       "    <tr>\n",
       "      <th>C1</th>\n",
       "      <td>1</td>\n",
       "      <td>2</td>\n",
       "      <td>3</td>\n",
       "    </tr>\n",
       "    <tr>\n",
       "      <th>C2</th>\n",
       "      <td>4</td>\n",
       "      <td>5</td>\n",
       "      <td>6</td>\n",
       "    </tr>\n",
       "  </tbody>\n",
       "</table>\n",
       "</div>"
      ],
      "text/plain": [
       "    J  F  M\n",
       "C1  1  2  3\n",
       "C2  4  5  6"
      ]
     },
     "execution_count": 4,
     "metadata": {},
     "output_type": "execute_result"
    }
   ],
   "source": [
    "df"
   ]
  },
  {
   "cell_type": "code",
   "execution_count": 5,
   "id": "4cd245df",
   "metadata": {},
   "outputs": [
    {
     "data": {
      "text/plain": [
       "C1    2\n",
       "C2    5\n",
       "Name: F, dtype: int64"
      ]
     },
     "execution_count": 5,
     "metadata": {},
     "output_type": "execute_result"
    }
   ],
   "source": [
    "df['F']"
   ]
  },
  {
   "cell_type": "code",
   "execution_count": 6,
   "id": "6e5aac59",
   "metadata": {},
   "outputs": [
    {
     "data": {
      "text/plain": [
       "J    1\n",
       "F    2\n",
       "M    3\n",
       "Name: C1, dtype: int64"
      ]
     },
     "execution_count": 6,
     "metadata": {},
     "output_type": "execute_result"
    }
   ],
   "source": [
    "df.loc['C1']"
   ]
  },
  {
   "cell_type": "code",
   "execution_count": 7,
   "id": "52bd860f",
   "metadata": {},
   "outputs": [
    {
     "data": {
      "text/plain": [
       "J    1\n",
       "F    2\n",
       "M    3\n",
       "Name: C1, dtype: int64"
      ]
     },
     "execution_count": 7,
     "metadata": {},
     "output_type": "execute_result"
    }
   ],
   "source": [
    "df.iloc[0]"
   ]
  },
  {
   "cell_type": "code",
   "execution_count": 10,
   "id": "4c823eb9",
   "metadata": {},
   "outputs": [
    {
     "data": {
      "text/html": [
       "<div>\n",
       "<style scoped>\n",
       "    .dataframe tbody tr th:only-of-type {\n",
       "        vertical-align: middle;\n",
       "    }\n",
       "\n",
       "    .dataframe tbody tr th {\n",
       "        vertical-align: top;\n",
       "    }\n",
       "\n",
       "    .dataframe thead th {\n",
       "        text-align: right;\n",
       "    }\n",
       "</style>\n",
       "<table border=\"1\" class=\"dataframe\">\n",
       "  <thead>\n",
       "    <tr style=\"text-align: right;\">\n",
       "      <th></th>\n",
       "      <th>A</th>\n",
       "      <th>B</th>\n",
       "      <th>C</th>\n",
       "      <th>D</th>\n",
       "      <th>E</th>\n",
       "      <th>F</th>\n",
       "      <th>G</th>\n",
       "      <th>H</th>\n",
       "      <th>I</th>\n",
       "      <th>J</th>\n",
       "    </tr>\n",
       "  </thead>\n",
       "  <tbody>\n",
       "    <tr>\n",
       "      <th>0</th>\n",
       "      <td>0.453190</td>\n",
       "      <td>0.391058</td>\n",
       "      <td>0.741634</td>\n",
       "      <td>-0.068166</td>\n",
       "      <td>0.473388</td>\n",
       "      <td>1.037060</td>\n",
       "      <td>-0.874914</td>\n",
       "      <td>0.962917</td>\n",
       "      <td>0.243284</td>\n",
       "      <td>-0.669673</td>\n",
       "    </tr>\n",
       "    <tr>\n",
       "      <th>1</th>\n",
       "      <td>0.892769</td>\n",
       "      <td>-0.620716</td>\n",
       "      <td>-0.468861</td>\n",
       "      <td>-2.371946</td>\n",
       "      <td>-0.187162</td>\n",
       "      <td>-0.184836</td>\n",
       "      <td>1.385094</td>\n",
       "      <td>-2.488848</td>\n",
       "      <td>0.427331</td>\n",
       "      <td>0.358237</td>\n",
       "    </tr>\n",
       "    <tr>\n",
       "      <th>2</th>\n",
       "      <td>1.161478</td>\n",
       "      <td>-0.098232</td>\n",
       "      <td>0.814391</td>\n",
       "      <td>-0.784821</td>\n",
       "      <td>1.634919</td>\n",
       "      <td>-0.044909</td>\n",
       "      <td>1.696427</td>\n",
       "      <td>-1.486163</td>\n",
       "      <td>-0.151533</td>\n",
       "      <td>-0.484939</td>\n",
       "    </tr>\n",
       "    <tr>\n",
       "      <th>3</th>\n",
       "      <td>1.098999</td>\n",
       "      <td>0.390531</td>\n",
       "      <td>-0.021613</td>\n",
       "      <td>1.127759</td>\n",
       "      <td>-1.969388</td>\n",
       "      <td>-0.679576</td>\n",
       "      <td>-1.170522</td>\n",
       "      <td>0.972975</td>\n",
       "      <td>0.786775</td>\n",
       "      <td>-1.201584</td>\n",
       "    </tr>\n",
       "    <tr>\n",
       "      <th>4</th>\n",
       "      <td>0.538443</td>\n",
       "      <td>-1.672309</td>\n",
       "      <td>1.885588</td>\n",
       "      <td>1.396726</td>\n",
       "      <td>-0.830480</td>\n",
       "      <td>0.418241</td>\n",
       "      <td>2.211555</td>\n",
       "      <td>0.166820</td>\n",
       "      <td>-0.429219</td>\n",
       "      <td>-0.174409</td>\n",
       "    </tr>\n",
       "  </tbody>\n",
       "</table>\n",
       "</div>"
      ],
      "text/plain": [
       "          A         B         C         D         E         F         G  \\\n",
       "0  0.453190  0.391058  0.741634 -0.068166  0.473388  1.037060 -0.874914   \n",
       "1  0.892769 -0.620716 -0.468861 -2.371946 -0.187162 -0.184836  1.385094   \n",
       "2  1.161478 -0.098232  0.814391 -0.784821  1.634919 -0.044909  1.696427   \n",
       "3  1.098999  0.390531 -0.021613  1.127759 -1.969388 -0.679576 -1.170522   \n",
       "4  0.538443 -1.672309  1.885588  1.396726 -0.830480  0.418241  2.211555   \n",
       "\n",
       "          H         I         J  \n",
       "0  0.962917  0.243284 -0.669673  \n",
       "1 -2.488848  0.427331  0.358237  \n",
       "2 -1.486163 -0.151533 -0.484939  \n",
       "3  0.972975  0.786775 -1.201584  \n",
       "4  0.166820 -0.429219 -0.174409  "
      ]
     },
     "execution_count": 10,
     "metadata": {},
     "output_type": "execute_result"
    }
   ],
   "source": [
    "arr = np.random.randn(100, 10)\n",
    "df2 = pd.DataFrame(arr, columns='A B C D E F G H I J'.split())\n",
    "df2.head()"
   ]
  },
  {
   "cell_type": "code",
   "execution_count": 11,
   "id": "a6c6dcd2",
   "metadata": {},
   "outputs": [],
   "source": [
    "df2.to_csv('example')"
   ]
  },
  {
   "cell_type": "code",
   "execution_count": 12,
   "id": "b2a5bfcd",
   "metadata": {
    "scrolled": true
   },
   "outputs": [
    {
     "data": {
      "text/html": [
       "<div>\n",
       "<style scoped>\n",
       "    .dataframe tbody tr th:only-of-type {\n",
       "        vertical-align: middle;\n",
       "    }\n",
       "\n",
       "    .dataframe tbody tr th {\n",
       "        vertical-align: top;\n",
       "    }\n",
       "\n",
       "    .dataframe thead th {\n",
       "        text-align: right;\n",
       "    }\n",
       "</style>\n",
       "<table border=\"1\" class=\"dataframe\">\n",
       "  <thead>\n",
       "    <tr style=\"text-align: right;\">\n",
       "      <th></th>\n",
       "      <th>A</th>\n",
       "      <th>B</th>\n",
       "      <th>C</th>\n",
       "      <th>D</th>\n",
       "      <th>E</th>\n",
       "      <th>F</th>\n",
       "      <th>G</th>\n",
       "      <th>H</th>\n",
       "      <th>I</th>\n",
       "      <th>J</th>\n",
       "    </tr>\n",
       "  </thead>\n",
       "  <tbody>\n",
       "    <tr>\n",
       "      <th>0</th>\n",
       "      <td>0.453190</td>\n",
       "      <td>0.391058</td>\n",
       "      <td>0.741634</td>\n",
       "      <td>-0.068166</td>\n",
       "      <td>0.473388</td>\n",
       "      <td>1.037060</td>\n",
       "      <td>-0.874914</td>\n",
       "      <td>0.962917</td>\n",
       "      <td>0.243284</td>\n",
       "      <td>-0.669673</td>\n",
       "    </tr>\n",
       "    <tr>\n",
       "      <th>1</th>\n",
       "      <td>0.892769</td>\n",
       "      <td>-0.620716</td>\n",
       "      <td>-0.468861</td>\n",
       "      <td>-2.371946</td>\n",
       "      <td>-0.187162</td>\n",
       "      <td>-0.184836</td>\n",
       "      <td>1.385094</td>\n",
       "      <td>-2.488848</td>\n",
       "      <td>0.427331</td>\n",
       "      <td>0.358237</td>\n",
       "    </tr>\n",
       "    <tr>\n",
       "      <th>2</th>\n",
       "      <td>1.161478</td>\n",
       "      <td>-0.098232</td>\n",
       "      <td>0.814391</td>\n",
       "      <td>-0.784821</td>\n",
       "      <td>1.634919</td>\n",
       "      <td>-0.044909</td>\n",
       "      <td>1.696427</td>\n",
       "      <td>-1.486163</td>\n",
       "      <td>-0.151533</td>\n",
       "      <td>-0.484939</td>\n",
       "    </tr>\n",
       "    <tr>\n",
       "      <th>3</th>\n",
       "      <td>1.098999</td>\n",
       "      <td>0.390531</td>\n",
       "      <td>-0.021613</td>\n",
       "      <td>1.127759</td>\n",
       "      <td>-1.969388</td>\n",
       "      <td>-0.679576</td>\n",
       "      <td>-1.170522</td>\n",
       "      <td>0.972975</td>\n",
       "      <td>0.786775</td>\n",
       "      <td>-1.201584</td>\n",
       "    </tr>\n",
       "    <tr>\n",
       "      <th>4</th>\n",
       "      <td>0.538443</td>\n",
       "      <td>-1.672309</td>\n",
       "      <td>1.885588</td>\n",
       "      <td>1.396726</td>\n",
       "      <td>-0.830480</td>\n",
       "      <td>0.418241</td>\n",
       "      <td>2.211555</td>\n",
       "      <td>0.166820</td>\n",
       "      <td>-0.429219</td>\n",
       "      <td>-0.174409</td>\n",
       "    </tr>\n",
       "  </tbody>\n",
       "</table>\n",
       "</div>"
      ],
      "text/plain": [
       "          A         B         C         D         E         F         G  \\\n",
       "0  0.453190  0.391058  0.741634 -0.068166  0.473388  1.037060 -0.874914   \n",
       "1  0.892769 -0.620716 -0.468861 -2.371946 -0.187162 -0.184836  1.385094   \n",
       "2  1.161478 -0.098232  0.814391 -0.784821  1.634919 -0.044909  1.696427   \n",
       "3  1.098999  0.390531 -0.021613  1.127759 -1.969388 -0.679576 -1.170522   \n",
       "4  0.538443 -1.672309  1.885588  1.396726 -0.830480  0.418241  2.211555   \n",
       "\n",
       "          H         I         J  \n",
       "0  0.962917  0.243284 -0.669673  \n",
       "1 -2.488848  0.427331  0.358237  \n",
       "2 -1.486163 -0.151533 -0.484939  \n",
       "3  0.972975  0.786775 -1.201584  \n",
       "4  0.166820 -0.429219 -0.174409  "
      ]
     },
     "execution_count": 12,
     "metadata": {},
     "output_type": "execute_result"
    }
   ],
   "source": [
    "df3 = pd.read_csv('example', index_col=0)\n",
    "df3.head()"
   ]
  },
  {
   "cell_type": "code",
   "execution_count": 13,
   "id": "92f0cf5a",
   "metadata": {},
   "outputs": [
    {
     "data": {
      "text/html": [
       "<div>\n",
       "<style scoped>\n",
       "    .dataframe tbody tr th:only-of-type {\n",
       "        vertical-align: middle;\n",
       "    }\n",
       "\n",
       "    .dataframe tbody tr th {\n",
       "        vertical-align: top;\n",
       "    }\n",
       "\n",
       "    .dataframe thead th {\n",
       "        text-align: right;\n",
       "    }\n",
       "</style>\n",
       "<table border=\"1\" class=\"dataframe\">\n",
       "  <thead>\n",
       "    <tr style=\"text-align: right;\">\n",
       "      <th></th>\n",
       "      <th>A</th>\n",
       "      <th>B</th>\n",
       "      <th>C</th>\n",
       "      <th>D</th>\n",
       "      <th>E</th>\n",
       "      <th>F</th>\n",
       "      <th>G</th>\n",
       "      <th>H</th>\n",
       "      <th>I</th>\n",
       "      <th>J</th>\n",
       "    </tr>\n",
       "  </thead>\n",
       "  <tbody>\n",
       "    <tr>\n",
       "      <th>count</th>\n",
       "      <td>100.000000</td>\n",
       "      <td>100.000000</td>\n",
       "      <td>100.000000</td>\n",
       "      <td>100.000000</td>\n",
       "      <td>100.000000</td>\n",
       "      <td>100.000000</td>\n",
       "      <td>100.000000</td>\n",
       "      <td>100.000000</td>\n",
       "      <td>100.000000</td>\n",
       "      <td>100.000000</td>\n",
       "    </tr>\n",
       "    <tr>\n",
       "      <th>mean</th>\n",
       "      <td>0.092336</td>\n",
       "      <td>-0.165505</td>\n",
       "      <td>0.032662</td>\n",
       "      <td>-0.094872</td>\n",
       "      <td>0.018168</td>\n",
       "      <td>-0.004098</td>\n",
       "      <td>0.083788</td>\n",
       "      <td>-0.077595</td>\n",
       "      <td>0.010861</td>\n",
       "      <td>-0.128620</td>\n",
       "    </tr>\n",
       "    <tr>\n",
       "      <th>std</th>\n",
       "      <td>0.997113</td>\n",
       "      <td>0.975365</td>\n",
       "      <td>0.996640</td>\n",
       "      <td>1.045211</td>\n",
       "      <td>1.069012</td>\n",
       "      <td>0.997550</td>\n",
       "      <td>1.061195</td>\n",
       "      <td>1.025310</td>\n",
       "      <td>1.067633</td>\n",
       "      <td>0.888642</td>\n",
       "    </tr>\n",
       "    <tr>\n",
       "      <th>min</th>\n",
       "      <td>-2.522216</td>\n",
       "      <td>-2.510621</td>\n",
       "      <td>-2.382006</td>\n",
       "      <td>-3.330368</td>\n",
       "      <td>-2.560492</td>\n",
       "      <td>-2.444414</td>\n",
       "      <td>-3.470196</td>\n",
       "      <td>-2.488848</td>\n",
       "      <td>-2.378162</td>\n",
       "      <td>-2.614245</td>\n",
       "    </tr>\n",
       "    <tr>\n",
       "      <th>25%</th>\n",
       "      <td>-0.596166</td>\n",
       "      <td>-0.780621</td>\n",
       "      <td>-0.637183</td>\n",
       "      <td>-0.766547</td>\n",
       "      <td>-0.720732</td>\n",
       "      <td>-0.596700</td>\n",
       "      <td>-0.547990</td>\n",
       "      <td>-0.767050</td>\n",
       "      <td>-0.791004</td>\n",
       "      <td>-0.708693</td>\n",
       "    </tr>\n",
       "    <tr>\n",
       "      <th>50%</th>\n",
       "      <td>0.142790</td>\n",
       "      <td>-0.208181</td>\n",
       "      <td>0.140557</td>\n",
       "      <td>-0.067519</td>\n",
       "      <td>-0.013673</td>\n",
       "      <td>0.044546</td>\n",
       "      <td>0.112373</td>\n",
       "      <td>-0.113994</td>\n",
       "      <td>0.080641</td>\n",
       "      <td>-0.167237</td>\n",
       "    </tr>\n",
       "    <tr>\n",
       "      <th>75%</th>\n",
       "      <td>0.690705</td>\n",
       "      <td>0.424697</td>\n",
       "      <td>0.685546</td>\n",
       "      <td>0.524648</td>\n",
       "      <td>0.797575</td>\n",
       "      <td>0.729701</td>\n",
       "      <td>0.676061</td>\n",
       "      <td>0.638004</td>\n",
       "      <td>0.812590</td>\n",
       "      <td>0.425134</td>\n",
       "    </tr>\n",
       "    <tr>\n",
       "      <th>max</th>\n",
       "      <td>2.584541</td>\n",
       "      <td>2.428004</td>\n",
       "      <td>2.829402</td>\n",
       "      <td>2.346404</td>\n",
       "      <td>2.250162</td>\n",
       "      <td>1.954509</td>\n",
       "      <td>2.457654</td>\n",
       "      <td>2.562281</td>\n",
       "      <td>2.508658</td>\n",
       "      <td>1.796199</td>\n",
       "    </tr>\n",
       "  </tbody>\n",
       "</table>\n",
       "</div>"
      ],
      "text/plain": [
       "                A           B           C           D           E           F  \\\n",
       "count  100.000000  100.000000  100.000000  100.000000  100.000000  100.000000   \n",
       "mean     0.092336   -0.165505    0.032662   -0.094872    0.018168   -0.004098   \n",
       "std      0.997113    0.975365    0.996640    1.045211    1.069012    0.997550   \n",
       "min     -2.522216   -2.510621   -2.382006   -3.330368   -2.560492   -2.444414   \n",
       "25%     -0.596166   -0.780621   -0.637183   -0.766547   -0.720732   -0.596700   \n",
       "50%      0.142790   -0.208181    0.140557   -0.067519   -0.013673    0.044546   \n",
       "75%      0.690705    0.424697    0.685546    0.524648    0.797575    0.729701   \n",
       "max      2.584541    2.428004    2.829402    2.346404    2.250162    1.954509   \n",
       "\n",
       "                G           H           I           J  \n",
       "count  100.000000  100.000000  100.000000  100.000000  \n",
       "mean     0.083788   -0.077595    0.010861   -0.128620  \n",
       "std      1.061195    1.025310    1.067633    0.888642  \n",
       "min     -3.470196   -2.488848   -2.378162   -2.614245  \n",
       "25%     -0.547990   -0.767050   -0.791004   -0.708693  \n",
       "50%      0.112373   -0.113994    0.080641   -0.167237  \n",
       "75%      0.676061    0.638004    0.812590    0.425134  \n",
       "max      2.457654    2.562281    2.508658    1.796199  "
      ]
     },
     "execution_count": 13,
     "metadata": {},
     "output_type": "execute_result"
    }
   ],
   "source": [
    "df3.describe()"
   ]
  },
  {
   "cell_type": "code",
   "execution_count": null,
   "id": "c7d8f349",
   "metadata": {},
   "outputs": [],
   "source": []
  }
 ],
 "metadata": {
  "kernelspec": {
   "display_name": "Python 3 (ipykernel)",
   "language": "python",
   "name": "python3"
  },
  "language_info": {
   "codemirror_mode": {
    "name": "ipython",
    "version": 3
   },
   "file_extension": ".py",
   "mimetype": "text/x-python",
   "name": "python",
   "nbconvert_exporter": "python",
   "pygments_lexer": "ipython3",
   "version": "3.12.3"
  }
 },
 "nbformat": 4,
 "nbformat_minor": 5
}
