{
 "cells": [
  {
   "cell_type": "markdown",
   "id": "ef592de0",
   "metadata": {},
   "source": [
    "# NumPy live coding Notebook"
   ]
  },
  {
   "cell_type": "markdown",
   "id": "c114822e",
   "metadata": {},
   "source": [
    "## NumPy arrays"
   ]
  },
  {
   "cell_type": "code",
   "execution_count": 10,
   "id": "7c8d611f",
   "metadata": {},
   "outputs": [],
   "source": [
    "import numpy as np"
   ]
  },
  {
   "cell_type": "code",
   "execution_count": 3,
   "id": "684cb455",
   "metadata": {},
   "outputs": [
    {
     "data": {
      "text/plain": [
       "array([[1, 2, 3],\n",
       "       [4, 5, 6]])"
      ]
     },
     "execution_count": 3,
     "metadata": {},
     "output_type": "execute_result"
    }
   ],
   "source": [
    "np.array([[1,2,3],[4,5,6]])"
   ]
  },
  {
   "cell_type": "code",
   "execution_count": 4,
   "id": "77d6c160",
   "metadata": {},
   "outputs": [],
   "source": [
    "arr = np.array([[1,2,3],[4,5,6]])"
   ]
  },
  {
   "cell_type": "code",
   "execution_count": 5,
   "id": "1590d507",
   "metadata": {
    "scrolled": true
   },
   "outputs": [
    {
     "data": {
      "text/plain": [
       "array([[1, 2, 3],\n",
       "       [4, 5, 6]])"
      ]
     },
     "execution_count": 5,
     "metadata": {},
     "output_type": "execute_result"
    }
   ],
   "source": [
    "arr"
   ]
  },
  {
   "cell_type": "markdown",
   "id": "3cc8b91f",
   "metadata": {},
   "source": [
    "## Shape en transponeren"
   ]
  },
  {
   "cell_type": "code",
   "execution_count": 6,
   "id": "881fed6c",
   "metadata": {},
   "outputs": [
    {
     "data": {
      "text/plain": [
       "(2, 3)"
      ]
     },
     "execution_count": 6,
     "metadata": {},
     "output_type": "execute_result"
    }
   ],
   "source": [
    "arr.shape"
   ]
  },
  {
   "cell_type": "code",
   "execution_count": 7,
   "id": "eb1cecd4",
   "metadata": {},
   "outputs": [
    {
     "data": {
      "text/plain": [
       "array([[1, 4],\n",
       "       [2, 5],\n",
       "       [3, 6]])"
      ]
     },
     "execution_count": 7,
     "metadata": {},
     "output_type": "execute_result"
    }
   ],
   "source": [
    "arr.T"
   ]
  },
  {
   "cell_type": "code",
   "execution_count": 8,
   "id": "96b12b65",
   "metadata": {},
   "outputs": [
    {
     "data": {
      "text/plain": [
       "(3, 2)"
      ]
     },
     "execution_count": 8,
     "metadata": {},
     "output_type": "execute_result"
    }
   ],
   "source": [
    "arr.T.shape"
   ]
  },
  {
   "cell_type": "markdown",
   "id": "548b117e",
   "metadata": {},
   "source": [
    "## Indexatie en slicing"
   ]
  },
  {
   "cell_type": "code",
   "execution_count": 9,
   "id": "9a42a18f",
   "metadata": {},
   "outputs": [
    {
     "data": {
      "text/plain": [
       "array([[1, 2, 3],\n",
       "       [4, 5, 6]])"
      ]
     },
     "execution_count": 9,
     "metadata": {},
     "output_type": "execute_result"
    }
   ],
   "source": [
    "arr"
   ]
  },
  {
   "cell_type": "code",
   "execution_count": 5,
   "id": "8e52a91a",
   "metadata": {},
   "outputs": [
    {
     "data": {
      "text/plain": [
       "array([1, 2, 3])"
      ]
     },
     "execution_count": 5,
     "metadata": {},
     "output_type": "execute_result"
    }
   ],
   "source": [
    "arr[0]"
   ]
  },
  {
   "cell_type": "code",
   "execution_count": 6,
   "id": "37203d22",
   "metadata": {},
   "outputs": [
    {
     "data": {
      "text/plain": [
       "array([4, 5, 6])"
      ]
     },
     "execution_count": 6,
     "metadata": {},
     "output_type": "execute_result"
    }
   ],
   "source": [
    "arr[1,:]"
   ]
  },
  {
   "cell_type": "code",
   "execution_count": 7,
   "id": "760cf173",
   "metadata": {},
   "outputs": [
    {
     "data": {
      "text/plain": [
       "array([5])"
      ]
     },
     "execution_count": 7,
     "metadata": {},
     "output_type": "execute_result"
    }
   ],
   "source": [
    "arr[1,1:2]"
   ]
  },
  {
   "cell_type": "code",
   "execution_count": 8,
   "id": "ceead7ea",
   "metadata": {},
   "outputs": [
    {
     "data": {
      "text/plain": [
       "array([5, 6])"
      ]
     },
     "execution_count": 8,
     "metadata": {},
     "output_type": "execute_result"
    }
   ],
   "source": [
    "arr[1,1:]"
   ]
  },
  {
   "cell_type": "markdown",
   "id": "629954fc",
   "metadata": {},
   "source": [
    "## arange, linspace, zeros, ones, eye"
   ]
  },
  {
   "cell_type": "code",
   "execution_count": 25,
   "id": "f09b25ab",
   "metadata": {
    "scrolled": true
   },
   "outputs": [
    {
     "data": {
      "text/plain": [
       "array([0, 1, 2, 3, 4, 5, 6, 7, 8, 9])"
      ]
     },
     "execution_count": 25,
     "metadata": {},
     "output_type": "execute_result"
    }
   ],
   "source": [
    "np.arange(0, 10, 1)"
   ]
  },
  {
   "cell_type": "code",
   "execution_count": 26,
   "id": "aa6f4b3b",
   "metadata": {},
   "outputs": [
    {
     "data": {
      "text/plain": [
       "array([0, 2, 4, 6, 8])"
      ]
     },
     "execution_count": 26,
     "metadata": {},
     "output_type": "execute_result"
    }
   ],
   "source": [
    "np.arange(0, 10, 2)"
   ]
  },
  {
   "cell_type": "code",
   "execution_count": 29,
   "id": "773ec2d9",
   "metadata": {},
   "outputs": [
    {
     "data": {
      "text/plain": [
       "array([0., 1., 2., 3., 4., 5., 6., 7., 8., 9.])"
      ]
     },
     "execution_count": 29,
     "metadata": {},
     "output_type": "execute_result"
    }
   ],
   "source": [
    "np.linspace(0, 9, 10)"
   ]
  },
  {
   "cell_type": "code",
   "execution_count": 30,
   "id": "8f7d026d",
   "metadata": {},
   "outputs": [
    {
     "data": {
      "text/plain": [
       "array([0.        , 0.18367347, 0.36734694, 0.55102041, 0.73469388,\n",
       "       0.91836735, 1.10204082, 1.28571429, 1.46938776, 1.65306122,\n",
       "       1.83673469, 2.02040816, 2.20408163, 2.3877551 , 2.57142857,\n",
       "       2.75510204, 2.93877551, 3.12244898, 3.30612245, 3.48979592,\n",
       "       3.67346939, 3.85714286, 4.04081633, 4.2244898 , 4.40816327,\n",
       "       4.59183673, 4.7755102 , 4.95918367, 5.14285714, 5.32653061,\n",
       "       5.51020408, 5.69387755, 5.87755102, 6.06122449, 6.24489796,\n",
       "       6.42857143, 6.6122449 , 6.79591837, 6.97959184, 7.16326531,\n",
       "       7.34693878, 7.53061224, 7.71428571, 7.89795918, 8.08163265,\n",
       "       8.26530612, 8.44897959, 8.63265306, 8.81632653, 9.        ])"
      ]
     },
     "execution_count": 30,
     "metadata": {},
     "output_type": "execute_result"
    }
   ],
   "source": [
    "np.linspace(0, 9, 50)"
   ]
  },
  {
   "cell_type": "code",
   "execution_count": 31,
   "id": "92f6559a",
   "metadata": {},
   "outputs": [
    {
     "data": {
      "text/plain": [
       "array([[0., 0., 0.],\n",
       "       [0., 0., 0.]])"
      ]
     },
     "execution_count": 31,
     "metadata": {},
     "output_type": "execute_result"
    }
   ],
   "source": [
    "np.zeros((2,3))"
   ]
  },
  {
   "cell_type": "code",
   "execution_count": 32,
   "id": "6ae8573e",
   "metadata": {},
   "outputs": [
    {
     "data": {
      "text/plain": [
       "array([[1., 1.],\n",
       "       [1., 1.],\n",
       "       [1., 1.]])"
      ]
     },
     "execution_count": 32,
     "metadata": {},
     "output_type": "execute_result"
    }
   ],
   "source": [
    "np.ones((3,2))"
   ]
  },
  {
   "cell_type": "code",
   "execution_count": 33,
   "id": "4dcbdc8b",
   "metadata": {},
   "outputs": [
    {
     "data": {
      "text/plain": [
       "array([[1., 0., 0.],\n",
       "       [0., 1., 0.],\n",
       "       [0., 0., 1.]])"
      ]
     },
     "execution_count": 33,
     "metadata": {},
     "output_type": "execute_result"
    }
   ],
   "source": [
    "np.eye(3)"
   ]
  },
  {
   "cell_type": "markdown",
   "id": "f96448f5",
   "metadata": {},
   "source": [
    "## np.random"
   ]
  },
  {
   "cell_type": "code",
   "execution_count": 12,
   "id": "3dd5c60f",
   "metadata": {
    "scrolled": true
   },
   "outputs": [
    {
     "data": {
      "text/plain": [
       "array([[0.83632791, 0.84049071, 0.6600157 , 0.21052593],\n",
       "       [0.17955582, 0.93350153, 0.7097402 , 0.00883758],\n",
       "       [0.44421777, 0.49507887, 0.78558324, 0.94374768],\n",
       "       [0.96470847, 0.67210779, 0.43854117, 0.41483878],\n",
       "       [0.43211965, 0.5083066 , 0.86780039, 0.04901874]])"
      ]
     },
     "execution_count": 12,
     "metadata": {},
     "output_type": "execute_result"
    }
   ],
   "source": [
    "rand_arr = np.random.rand(100, 4)\n",
    "rand_arr[:5,:]"
   ]
  },
  {
   "cell_type": "code",
   "execution_count": 13,
   "id": "f5f1e8c8",
   "metadata": {},
   "outputs": [
    {
     "data": {
      "text/plain": [
       "array([[ 0.17238653, -0.64193961,  2.42161282,  0.57915733],\n",
       "       [-0.45578727, -1.33402937,  1.00408368, -0.28416983],\n",
       "       [ 0.17174903, -0.43160707, -1.30702262,  0.43283871],\n",
       "       [ 0.18251531,  2.0058711 ,  0.4372713 ,  0.2536588 ],\n",
       "       [-0.03981084,  0.48823382, -0.33422814, -0.99405468]])"
      ]
     },
     "execution_count": 13,
     "metadata": {},
     "output_type": "execute_result"
    }
   ],
   "source": [
    "np.random.randn(5, 4)"
   ]
  },
  {
   "cell_type": "code",
   "execution_count": 14,
   "id": "e379e436",
   "metadata": {},
   "outputs": [
    {
     "data": {
      "text/plain": [
       "array([[8, 6, 6, 3],\n",
       "       [0, 4, 2, 8],\n",
       "       [2, 6, 3, 9],\n",
       "       [7, 4, 3, 4],\n",
       "       [3, 8, 2, 5]])"
      ]
     },
     "execution_count": 14,
     "metadata": {},
     "output_type": "execute_result"
    }
   ],
   "source": [
    "np.random.randint(0, 10, size=(5,4))"
   ]
  },
  {
   "cell_type": "markdown",
   "id": "e7b46112",
   "metadata": {},
   "source": [
    "## Vectoren"
   ]
  },
  {
   "cell_type": "markdown",
   "id": "59a8fbed",
   "metadata": {},
   "source": [
    "## Element-wise operaties"
   ]
  },
  {
   "cell_type": "markdown",
   "id": "492a984a",
   "metadata": {},
   "source": [
    "## Matrix-vermenigvuldiging"
   ]
  },
  {
   "cell_type": "markdown",
   "id": "1fbe317a",
   "metadata": {},
   "source": [
    "## Pandas"
   ]
  },
  {
   "cell_type": "code",
   "execution_count": 2,
   "id": "a29675ab",
   "metadata": {},
   "outputs": [],
   "source": [
    "import pandas as pd"
   ]
  },
  {
   "cell_type": "code",
   "execution_count": 3,
   "id": "62d7631b",
   "metadata": {},
   "outputs": [],
   "source": [
    "my_dict = {'J':[1,4], 'F':[2,5], 'M':[3,6]}"
   ]
  },
  {
   "cell_type": "code",
   "execution_count": 4,
   "id": "b936479e",
   "metadata": {},
   "outputs": [],
   "source": [
    "df = pd.DataFrame(my_dict,index=['C1','C2'])"
   ]
  },
  {
   "cell_type": "code",
   "execution_count": 5,
   "id": "3052ec02",
   "metadata": {},
   "outputs": [
    {
     "data": {
      "text/html": [
       "<div>\n",
       "<style scoped>\n",
       "    .dataframe tbody tr th:only-of-type {\n",
       "        vertical-align: middle;\n",
       "    }\n",
       "\n",
       "    .dataframe tbody tr th {\n",
       "        vertical-align: top;\n",
       "    }\n",
       "\n",
       "    .dataframe thead th {\n",
       "        text-align: right;\n",
       "    }\n",
       "</style>\n",
       "<table border=\"1\" class=\"dataframe\">\n",
       "  <thead>\n",
       "    <tr style=\"text-align: right;\">\n",
       "      <th></th>\n",
       "      <th>J</th>\n",
       "      <th>F</th>\n",
       "      <th>M</th>\n",
       "    </tr>\n",
       "  </thead>\n",
       "  <tbody>\n",
       "    <tr>\n",
       "      <th>C1</th>\n",
       "      <td>1</td>\n",
       "      <td>2</td>\n",
       "      <td>3</td>\n",
       "    </tr>\n",
       "    <tr>\n",
       "      <th>C2</th>\n",
       "      <td>4</td>\n",
       "      <td>5</td>\n",
       "      <td>6</td>\n",
       "    </tr>\n",
       "  </tbody>\n",
       "</table>\n",
       "</div>"
      ],
      "text/plain": [
       "    J  F  M\n",
       "C1  1  2  3\n",
       "C2  4  5  6"
      ]
     },
     "execution_count": 5,
     "metadata": {},
     "output_type": "execute_result"
    }
   ],
   "source": [
    "df"
   ]
  },
  {
   "cell_type": "code",
   "execution_count": 6,
   "id": "4cd245df",
   "metadata": {},
   "outputs": [
    {
     "data": {
      "text/plain": [
       "C1    2\n",
       "C2    5\n",
       "Name: F, dtype: int64"
      ]
     },
     "execution_count": 6,
     "metadata": {},
     "output_type": "execute_result"
    }
   ],
   "source": [
    "df['F']"
   ]
  },
  {
   "cell_type": "code",
   "execution_count": 7,
   "id": "6e5aac59",
   "metadata": {},
   "outputs": [
    {
     "data": {
      "text/plain": [
       "J    1\n",
       "F    2\n",
       "M    3\n",
       "Name: C1, dtype: int64"
      ]
     },
     "execution_count": 7,
     "metadata": {},
     "output_type": "execute_result"
    }
   ],
   "source": [
    "df.loc['C1']"
   ]
  },
  {
   "cell_type": "code",
   "execution_count": 9,
   "id": "52bd860f",
   "metadata": {},
   "outputs": [
    {
     "data": {
      "text/plain": [
       "J    1\n",
       "F    2\n",
       "M    3\n",
       "Name: C1, dtype: int64"
      ]
     },
     "execution_count": 9,
     "metadata": {},
     "output_type": "execute_result"
    }
   ],
   "source": [
    "df.iloc[0]"
   ]
  },
  {
   "cell_type": "code",
   "execution_count": 15,
   "id": "4c823eb9",
   "metadata": {},
   "outputs": [
    {
     "data": {
      "text/html": [
       "<div>\n",
       "<style scoped>\n",
       "    .dataframe tbody tr th:only-of-type {\n",
       "        vertical-align: middle;\n",
       "    }\n",
       "\n",
       "    .dataframe tbody tr th {\n",
       "        vertical-align: top;\n",
       "    }\n",
       "\n",
       "    .dataframe thead th {\n",
       "        text-align: right;\n",
       "    }\n",
       "</style>\n",
       "<table border=\"1\" class=\"dataframe\">\n",
       "  <thead>\n",
       "    <tr style=\"text-align: right;\">\n",
       "      <th></th>\n",
       "      <th>A</th>\n",
       "      <th>B</th>\n",
       "      <th>C</th>\n",
       "      <th>D</th>\n",
       "      <th>E</th>\n",
       "      <th>F</th>\n",
       "      <th>G</th>\n",
       "      <th>H</th>\n",
       "      <th>I</th>\n",
       "      <th>J</th>\n",
       "    </tr>\n",
       "  </thead>\n",
       "  <tbody>\n",
       "    <tr>\n",
       "      <th>0</th>\n",
       "      <td>-0.017406</td>\n",
       "      <td>-0.449318</td>\n",
       "      <td>1.608980</td>\n",
       "      <td>0.012026</td>\n",
       "      <td>1.267261</td>\n",
       "      <td>-0.912026</td>\n",
       "      <td>1.091039</td>\n",
       "      <td>-1.083208</td>\n",
       "      <td>0.432415</td>\n",
       "      <td>1.440303</td>\n",
       "    </tr>\n",
       "    <tr>\n",
       "      <th>1</th>\n",
       "      <td>0.376942</td>\n",
       "      <td>-1.552614</td>\n",
       "      <td>0.032979</td>\n",
       "      <td>0.693064</td>\n",
       "      <td>-1.293245</td>\n",
       "      <td>-0.440387</td>\n",
       "      <td>-0.469579</td>\n",
       "      <td>-1.643155</td>\n",
       "      <td>-0.116789</td>\n",
       "      <td>0.669484</td>\n",
       "    </tr>\n",
       "    <tr>\n",
       "      <th>2</th>\n",
       "      <td>1.764015</td>\n",
       "      <td>0.156742</td>\n",
       "      <td>0.053564</td>\n",
       "      <td>0.520691</td>\n",
       "      <td>-0.297894</td>\n",
       "      <td>-2.057930</td>\n",
       "      <td>0.368334</td>\n",
       "      <td>-1.381905</td>\n",
       "      <td>-0.814134</td>\n",
       "      <td>0.630846</td>\n",
       "    </tr>\n",
       "    <tr>\n",
       "      <th>3</th>\n",
       "      <td>-0.574043</td>\n",
       "      <td>1.384442</td>\n",
       "      <td>0.191348</td>\n",
       "      <td>-0.906562</td>\n",
       "      <td>-1.261570</td>\n",
       "      <td>-0.626248</td>\n",
       "      <td>-0.067375</td>\n",
       "      <td>0.733461</td>\n",
       "      <td>1.409944</td>\n",
       "      <td>-0.916297</td>\n",
       "    </tr>\n",
       "    <tr>\n",
       "      <th>4</th>\n",
       "      <td>-2.222669</td>\n",
       "      <td>0.465922</td>\n",
       "      <td>-0.971500</td>\n",
       "      <td>0.755476</td>\n",
       "      <td>1.791976</td>\n",
       "      <td>0.284614</td>\n",
       "      <td>-0.875390</td>\n",
       "      <td>0.175858</td>\n",
       "      <td>-0.483519</td>\n",
       "      <td>0.155714</td>\n",
       "    </tr>\n",
       "  </tbody>\n",
       "</table>\n",
       "</div>"
      ],
      "text/plain": [
       "          A         B         C         D         E         F         G  \\\n",
       "0 -0.017406 -0.449318  1.608980  0.012026  1.267261 -0.912026  1.091039   \n",
       "1  0.376942 -1.552614  0.032979  0.693064 -1.293245 -0.440387 -0.469579   \n",
       "2  1.764015  0.156742  0.053564  0.520691 -0.297894 -2.057930  0.368334   \n",
       "3 -0.574043  1.384442  0.191348 -0.906562 -1.261570 -0.626248 -0.067375   \n",
       "4 -2.222669  0.465922 -0.971500  0.755476  1.791976  0.284614 -0.875390   \n",
       "\n",
       "          H         I         J  \n",
       "0 -1.083208  0.432415  1.440303  \n",
       "1 -1.643155 -0.116789  0.669484  \n",
       "2 -1.381905 -0.814134  0.630846  \n",
       "3  0.733461  1.409944 -0.916297  \n",
       "4  0.175858 -0.483519  0.155714  "
      ]
     },
     "execution_count": 15,
     "metadata": {},
     "output_type": "execute_result"
    }
   ],
   "source": [
    "arr = np.random.randn(100, 10)\n",
    "df2 = pd.DataFrame(arr, columns='A B C D E F G H I J'.split())\n",
    "df2.head()"
   ]
  },
  {
   "cell_type": "code",
   "execution_count": 16,
   "id": "a6c6dcd2",
   "metadata": {},
   "outputs": [],
   "source": [
    "df2.to_csv('example')"
   ]
  },
  {
   "cell_type": "code",
   "execution_count": 18,
   "id": "b2a5bfcd",
   "metadata": {},
   "outputs": [
    {
     "data": {
      "text/html": [
       "<div>\n",
       "<style scoped>\n",
       "    .dataframe tbody tr th:only-of-type {\n",
       "        vertical-align: middle;\n",
       "    }\n",
       "\n",
       "    .dataframe tbody tr th {\n",
       "        vertical-align: top;\n",
       "    }\n",
       "\n",
       "    .dataframe thead th {\n",
       "        text-align: right;\n",
       "    }\n",
       "</style>\n",
       "<table border=\"1\" class=\"dataframe\">\n",
       "  <thead>\n",
       "    <tr style=\"text-align: right;\">\n",
       "      <th></th>\n",
       "      <th>A</th>\n",
       "      <th>B</th>\n",
       "      <th>C</th>\n",
       "      <th>D</th>\n",
       "      <th>E</th>\n",
       "      <th>F</th>\n",
       "      <th>G</th>\n",
       "      <th>H</th>\n",
       "      <th>I</th>\n",
       "      <th>J</th>\n",
       "    </tr>\n",
       "  </thead>\n",
       "  <tbody>\n",
       "    <tr>\n",
       "      <th>0</th>\n",
       "      <td>-0.017406</td>\n",
       "      <td>-0.449318</td>\n",
       "      <td>1.608980</td>\n",
       "      <td>0.012026</td>\n",
       "      <td>1.267261</td>\n",
       "      <td>-0.912026</td>\n",
       "      <td>1.091039</td>\n",
       "      <td>-1.083208</td>\n",
       "      <td>0.432415</td>\n",
       "      <td>1.440303</td>\n",
       "    </tr>\n",
       "    <tr>\n",
       "      <th>1</th>\n",
       "      <td>0.376942</td>\n",
       "      <td>-1.552614</td>\n",
       "      <td>0.032979</td>\n",
       "      <td>0.693064</td>\n",
       "      <td>-1.293245</td>\n",
       "      <td>-0.440387</td>\n",
       "      <td>-0.469579</td>\n",
       "      <td>-1.643155</td>\n",
       "      <td>-0.116789</td>\n",
       "      <td>0.669484</td>\n",
       "    </tr>\n",
       "    <tr>\n",
       "      <th>2</th>\n",
       "      <td>1.764015</td>\n",
       "      <td>0.156742</td>\n",
       "      <td>0.053564</td>\n",
       "      <td>0.520691</td>\n",
       "      <td>-0.297894</td>\n",
       "      <td>-2.057930</td>\n",
       "      <td>0.368334</td>\n",
       "      <td>-1.381905</td>\n",
       "      <td>-0.814134</td>\n",
       "      <td>0.630846</td>\n",
       "    </tr>\n",
       "    <tr>\n",
       "      <th>3</th>\n",
       "      <td>-0.574043</td>\n",
       "      <td>1.384442</td>\n",
       "      <td>0.191348</td>\n",
       "      <td>-0.906562</td>\n",
       "      <td>-1.261570</td>\n",
       "      <td>-0.626248</td>\n",
       "      <td>-0.067375</td>\n",
       "      <td>0.733461</td>\n",
       "      <td>1.409944</td>\n",
       "      <td>-0.916297</td>\n",
       "    </tr>\n",
       "    <tr>\n",
       "      <th>4</th>\n",
       "      <td>-2.222669</td>\n",
       "      <td>0.465922</td>\n",
       "      <td>-0.971500</td>\n",
       "      <td>0.755476</td>\n",
       "      <td>1.791976</td>\n",
       "      <td>0.284614</td>\n",
       "      <td>-0.875390</td>\n",
       "      <td>0.175858</td>\n",
       "      <td>-0.483519</td>\n",
       "      <td>0.155714</td>\n",
       "    </tr>\n",
       "  </tbody>\n",
       "</table>\n",
       "</div>"
      ],
      "text/plain": [
       "          A         B         C         D         E         F         G  \\\n",
       "0 -0.017406 -0.449318  1.608980  0.012026  1.267261 -0.912026  1.091039   \n",
       "1  0.376942 -1.552614  0.032979  0.693064 -1.293245 -0.440387 -0.469579   \n",
       "2  1.764015  0.156742  0.053564  0.520691 -0.297894 -2.057930  0.368334   \n",
       "3 -0.574043  1.384442  0.191348 -0.906562 -1.261570 -0.626248 -0.067375   \n",
       "4 -2.222669  0.465922 -0.971500  0.755476  1.791976  0.284614 -0.875390   \n",
       "\n",
       "          H         I         J  \n",
       "0 -1.083208  0.432415  1.440303  \n",
       "1 -1.643155 -0.116789  0.669484  \n",
       "2 -1.381905 -0.814134  0.630846  \n",
       "3  0.733461  1.409944 -0.916297  \n",
       "4  0.175858 -0.483519  0.155714  "
      ]
     },
     "execution_count": 18,
     "metadata": {},
     "output_type": "execute_result"
    }
   ],
   "source": [
    "df3 = pd.read_csv('example', index_col=0)\n",
    "df3.head()"
   ]
  }
 ],
 "metadata": {
  "kernelspec": {
   "display_name": "Python 3 (ipykernel)",
   "language": "python",
   "name": "python3"
  },
  "language_info": {
   "codemirror_mode": {
    "name": "ipython",
    "version": 3
   },
   "file_extension": ".py",
   "mimetype": "text/x-python",
   "name": "python",
   "nbconvert_exporter": "python",
   "pygments_lexer": "ipython3",
   "version": "3.10.1"
  }
 },
 "nbformat": 4,
 "nbformat_minor": 5
}
